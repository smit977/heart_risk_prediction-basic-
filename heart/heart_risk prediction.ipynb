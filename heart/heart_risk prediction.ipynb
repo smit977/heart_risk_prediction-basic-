{
 "cells": [
  {
   "cell_type": "code",
   "execution_count": 1,
   "metadata": {},
   "outputs": [],
   "source": [
    "import pandas as pd\n",
    "import numpy as np\n"
   ]
  },
  {
   "cell_type": "code",
   "execution_count": 39,
   "metadata": {},
   "outputs": [
    {
     "data": {
      "text/plain": [
       "array([[  2. ,  48. , 236. ,  66. ,   0. ,   2. ,   0. ,   1.1],\n",
       "       [  1. ,  48. , 260. ,  51. ,   0. ,   2. ,   1. ,   7. ],\n",
       "       [  1. ,  44. , 187. ,  49. ,   1. ,   2. ,   0. ,   7. ],\n",
       "       [  2. ,  42. , 216. ,  57. ,   1. ,   2. ,   0. ,   0.4],\n",
       "       [  2. ,  56. , 156. ,  42. ,   0. ,   2. ,   0. ,   2.2],\n",
       "       [  1. ,  44. , 162. ,  57. ,   1. ,   2. ,   0. ,   3. ],\n",
       "       [  1. ,  50. , 244. ,  47. ,   0. ,   2. ,   0. ,   4.2],\n",
       "       [  1. ,  48. , 212. ,  30. ,   1. ,   2. ,   0. ,  17.4],\n",
       "       [  2. ,  66. , 202. ,  53. ,   0. ,   2. ,   1. ,  13.4],\n",
       "       [  1. ,  63. , 186. ,  46. ,   1. ,   2. ,   0. ,  17.3]])"
      ]
     },
     "execution_count": 39,
     "metadata": {},
     "output_type": "execute_result"
    }
   ],
   "source": [
    "#load dataset in numpy array\n",
    "dataset=pd.read_csv('E://downloadschrome//day_04//DAY 04//cardio_dataset.csv').values\n",
    "dataset[:10]"
   ]
  },
  {
   "cell_type": "code",
   "execution_count": 40,
   "metadata": {},
   "outputs": [],
   "source": [
    "data=dataset[:,:7]\n",
    "target=dataset[:,7]"
   ]
  },
  {
   "cell_type": "code",
   "execution_count": 41,
   "metadata": {},
   "outputs": [],
   "source": [
    "from sklearn.model_selection import train_test_split\n",
    "\n",
    "train_data,test_data,train_target,test_target=train_test_split(data,target,test_size=.2)"
   ]
  },
  {
   "cell_type": "code",
   "execution_count": 42,
   "metadata": {},
   "outputs": [
    {
     "data": {
      "text/plain": [
       "LinearRegression()"
      ]
     },
     "execution_count": 42,
     "metadata": {},
     "output_type": "execute_result"
    }
   ],
   "source": [
    "from sklearn.linear_model import LinearRegression\n",
    "\n",
    "model=LinearRegression()\n",
    "\n",
    "model.fit(train_data,train_target)"
   ]
  },
  {
   "cell_type": "code",
   "execution_count": 43,
   "metadata": {},
   "outputs": [],
   "source": [
    "predicted_target=model.predict(test_data)\n"
   ]
  },
  {
   "cell_type": "code",
   "execution_count": 52,
   "metadata": {},
   "outputs": [
    {
     "name": "stdout",
     "output_type": "stream",
     "text": [
      "r2 score is: 0.75768227100798\n"
     ]
    }
   ],
   "source": [
    "from sklearn.metrics import r2_score\n",
    "\n",
    "r2=r2_score(test_target,predicted_target+1)\n",
    "print(\"r2 score is:\",r2)"
   ]
  },
  {
   "cell_type": "code",
   "execution_count": 53,
   "metadata": {},
   "outputs": [
    {
     "data": {
      "text/plain": [
       "['regression_model_heart_risk.sav']"
      ]
     },
     "execution_count": 53,
     "metadata": {},
     "output_type": "execute_result"
    }
   ],
   "source": [
    "import joblib\n",
    "joblib.dump(model,'regression_model_heart_risk.sav')"
   ]
  },
  {
   "cell_type": "code",
   "execution_count": null,
   "metadata": {},
   "outputs": [],
   "source": []
  }
 ],
 "metadata": {
  "kernelspec": {
   "display_name": "Python 3",
   "language": "python",
   "name": "python3"
  },
  "language_info": {
   "codemirror_mode": {
    "name": "ipython",
    "version": 3
   },
   "file_extension": ".py",
   "mimetype": "text/x-python",
   "name": "python",
   "nbconvert_exporter": "python",
   "pygments_lexer": "ipython3",
   "version": "3.8.3"
  }
 },
 "nbformat": 4,
 "nbformat_minor": 4
}
